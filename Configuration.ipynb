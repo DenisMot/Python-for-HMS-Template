{
 "cells": [
  {
   "cell_type": "code",
   "execution_count": 15,
   "metadata": {},
   "outputs": [
    {
     "name": "stdout",
     "output_type": "stream",
     "text": [
      "Configuration: \n",
      "  kernel:  /Users/denismottet/miniconda3/bin/python\n",
      "  python 3.10.10 (main, Mar 21 2023, 13:41:05) [Clang 14.0.6 ]\n",
      "  cwd: /Users/denismottet/Documents/GitHub/Python-for-HMS-Template\n",
      "  user: root\n",
      "  home: /Users/denismottet\n"
     ]
    }
   ],
   "source": [
    "import sys \n",
    "import os\n",
    "print(\"Configuration: \")\n",
    "print(\"  kernel: \",  sys.executable)\n",
    "print(\"  python\", sys.version)\n",
    "print(\"  cwd:\",     os.getcwd())\n"
   ]
  }
 ],
 "metadata": {
  "kernelspec": {
   "display_name": "Python 3",
   "language": "python",
   "name": "python3"
  },
  "language_info": {
   "codemirror_mode": {
    "name": "ipython",
    "version": 3
   },
   "file_extension": ".py",
   "mimetype": "text/x-python",
   "name": "python",
   "nbconvert_exporter": "python",
   "pygments_lexer": "ipython3",
   "version": "3.10.10"
  },
  "orig_nbformat": 4
 },
 "nbformat": 4,
 "nbformat_minor": 2
}
