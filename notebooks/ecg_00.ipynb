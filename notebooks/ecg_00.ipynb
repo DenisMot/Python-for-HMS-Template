{
 "cells": [
  {
   "attachments": {},
   "cell_type": "markdown",
   "metadata": {},
   "source": [
    "# `ecg_00.jpynb`: Read and plot ECG data\n",
    "\n",
    "In this Jupyter notebook, we read and plot ECG data from a healthy subject."
   ]
  },
  {
   "attachments": {},
   "cell_type": "markdown",
   "metadata": {},
   "source": [
    "## 1. Open an ECG file into the `ecg` variable\n",
    "We want to read the file `ECG_hz.txt` from the `data` folder.  \n",
    "We shall put the data into a variable named `ecg`.\n"
   ]
  },
  {
   "attachments": {},
   "cell_type": "markdown",
   "metadata": {},
   "source": [
    "### 1.1. Define the path to the ECG file\n",
    "\n",
    "The path to the file is `data/ECG_hz.txt`, starting from the root of the project.  \n",
    "However, the present notebook is located in the `notebooks` folder, so we need to go up one level to reach the `data` folder:\n",
    "  1. go up one level: `../` \n",
    "  1. then, reach the `data` folder: `../data/`\n",
    "  1. then, reach the file: `../data/ECG_hz.txt`"
   ]
  },
  {
   "cell_type": "code",
   "execution_count": null,
   "metadata": {},
   "outputs": [],
   "source": [
    "fNameECG = \"../data/ECG_hz.txt\""
   ]
  },
  {
   "attachments": {},
   "cell_type": "markdown",
   "metadata": {},
   "source": [
    "However, if we `%run` this notebook from another notebook, the path is expected from the other notebook. So we need a way to define the path to the file in a way that is independent of the notebook that is running the present notebook."
   ]
  },
  {
   "cell_type": "code",
   "execution_count": null,
   "metadata": {},
   "outputs": [],
   "source": [
    "# if the present working directory is the directory of this file, change the path to the project root\n",
    "import os\n",
    "if os.getcwd().endswith(\"notebooks\"):\n",
    "    os.chdir(\"..\")\n",
    "\n",
    "fNameECG = \"data/ECG_hz.txt\""
   ]
  },
  {
   "attachments": {},
   "cell_type": "markdown",
   "metadata": {},
   "source": [
    "### 1.2. Read the ecg file"
   ]
  },
  {
   "cell_type": "code",
   "execution_count": null,
   "metadata": {},
   "outputs": [],
   "source": [
    "import numpy as np \n",
    "\n",
    "ecg = np.genfromtxt(fNameECG, delimiter=',')"
   ]
  },
  {
   "attachments": {},
   "cell_type": "markdown",
   "metadata": {},
   "source": [
    "# 2. Plot the content of the `egc` variable "
   ]
  },
  {
   "cell_type": "code",
   "execution_count": null,
   "metadata": {},
   "outputs": [],
   "source": [
    "import matplotlib.pyplot as plt \n",
    "\n",
    "plt.plot(ecg)\n",
    "plt.show()\n",
    "\n",
    "print(\"ecg_00.ipynb finished\")"
   ]
  },
  {
   "attachments": {},
   "cell_type": "markdown",
   "metadata": {},
   "source": [
    "# 3. What should we do next?\n",
    "\n",
    "#### 3.1. What is wrong in this picture?\n",
    "- [ ] Is the unit of the x-axis correct? We expect time in seconds...\n",
    "- [ ] Is the unit of the y-axis correct? We expect voltage in mV...\n",
    "\n",
    "#### 3.2. What is missing in this picture? \n",
    "- [ ] Add a grid to the plot\n",
    "- [ ] Add a label to the x-axis\n",
    "- [ ] Add a label to the y-axis\n",
    "\n",
    "\n",
    "May be you would create a picture looking like the [target_ecg](ecg_00_img/target_ecg.png) ?   \n",
    "\n",
    "This is up to you to find out how to do it!\n"
   ]
  }
 ],
 "metadata": {
  "kernelspec": {
   "display_name": "base",
   "language": "python",
   "name": "python3"
  },
  "language_info": {
   "codemirror_mode": {
    "name": "ipython",
    "version": 3
   },
   "file_extension": ".py",
   "mimetype": "text/x-python",
   "name": "python",
   "nbconvert_exporter": "python",
   "pygments_lexer": "ipython3",
   "version": "3.10.10"
  },
  "orig_nbformat": 4
 },
 "nbformat": 4,
 "nbformat_minor": 2
}
